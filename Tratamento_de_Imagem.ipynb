{
  "nbformat": 4,
  "nbformat_minor": 0,
  "metadata": {
    "colab": {
      "name": "Tratamento de Imagem.ipynb",
      "provenance": [],
      "collapsed_sections": [],
      "authorship_tag": "ABX9TyOC0wAWkb4VdNCKboISeJaN",
      "include_colab_link": true
    },
    "kernelspec": {
      "name": "python3",
      "display_name": "Python 3"
    }
  },
  "cells": [
    {
      "cell_type": "markdown",
      "metadata": {
        "id": "view-in-github",
        "colab_type": "text"
      },
      "source": [
        "<a href=\"https://colab.research.google.com/github/Lucas-Abrahao/Robotica_fatec/blob/master/Tratamento_de_Imagem.ipynb\" target=\"_parent\"><img src=\"https://colab.research.google.com/assets/colab-badge.svg\" alt=\"Open In Colab\"/></a>"
      ]
    },
    {
      "cell_type": "markdown",
      "metadata": {
        "id": "3Exoxr9vMxwU",
        "colab_type": "text"
      },
      "source": [
        "Criando uma img"
      ]
    },
    {
      "cell_type": "code",
      "metadata": {
        "id": "5IddVud7M0aJ",
        "colab_type": "code",
        "colab": {
          "base_uri": "https://localhost:8080/",
          "height": 34
        },
        "outputId": "bfd8e79c-ed36-4d3b-cef5-a0c07ead71c3"
      },
      "source": [
        "import cv2 \n",
        "import numpy as np\n",
        "\n",
        "altura = 100\n",
        "largura = 100\n",
        "\n",
        "#comece uma matriz de zeros, depois preenche.\n",
        "img = np.zeros([altura, largura, 3]) #matriz de zeros\n",
        "\n",
        "for py in range (0, altura):\n",
        "  for px in range (0, largura):\n",
        "    img[px][py][0]= 150 #azul\n",
        "    img[py][px][1] = 255 #verde\n",
        "    img[px][py][2] = 150 #vermelho\n",
        "\n",
        "cv2.imwrite(\"imgcolor.png\", img)"
      ],
      "execution_count": 1,
      "outputs": [
        {
          "output_type": "execute_result",
          "data": {
            "text/plain": [
              "True"
            ]
          },
          "metadata": {
            "tags": []
          },
          "execution_count": 1
        }
      ]
    },
    {
      "cell_type": "markdown",
      "metadata": {
        "id": "zaUirfUUp8NB",
        "colab_type": "text"
      },
      "source": [
        "Se X e Y forem iguais o pixel é preto"
      ]
    },
    {
      "cell_type": "code",
      "metadata": {
        "id": "-tJPdJggoSKc",
        "colab_type": "code",
        "colab": {
          "base_uri": "https://localhost:8080/",
          "height": 34
        },
        "outputId": "afc6e01b-9334-46d5-8bd3-7133ca223b00"
      },
      "source": [
        "import cv2 \n",
        "import numpy as np\n",
        "\n",
        "altura = 10\n",
        "largura = 10\n",
        "\n",
        "img = np.zeros([altura,largura,3]) #matriz de zeros\n",
        "\n",
        "for py in range (0,altura):\n",
        "  for px in range (0,largura):\n",
        "    if (px==py):\n",
        "      img[py][px][0] = 0 #color Blue\n",
        "      img[py][px][1] = 0 #color Green\n",
        "      img[py][px][2] = 0 #color Red\n",
        "    else:\n",
        "      img[py][px][0] = 0 #color Blue\n",
        "      img[py][px][1] = 255 #color Green\n",
        "      img[py][px][2] = 0 #color Red\n",
        "\n",
        "cv2.imwrite('color_img.png',img)"
      ],
      "execution_count": null,
      "outputs": [
        {
          "output_type": "execute_result",
          "data": {
            "text/plain": [
              "True"
            ]
          },
          "metadata": {
            "tags": []
          },
          "execution_count": 2
        }
      ]
    },
    {
      "cell_type": "markdown",
      "metadata": {
        "id": "UXsxy5NNsKyF",
        "colab_type": "text"
      },
      "source": [
        "Ler e Mostrar a imagem de um arquivo"
      ]
    },
    {
      "cell_type": "code",
      "metadata": {
        "id": "zXdkW38Xrjiz",
        "colab_type": "code",
        "colab": {
          "base_uri": "https://localhost:8080/",
          "height": 34
        },
        "outputId": "ec51dc2d-f268-4e15-e0ce-3293890e4bc7"
      },
      "source": [
        "from IPython.display import Image\n",
        "\n",
        "filename = \"color_img.png\"\n",
        "display(Image(filename))"
      ],
      "execution_count": null,
      "outputs": [
        {
          "output_type": "display_data",
          "data": {
            "image/png": "[encoded data removed]",
            "text/plain": [
              "<IPython.core.display.Image object>"
            ]
          },
          "metadata": {
            "tags": []
          }
        }
      ]
    },
    {
      "cell_type": "markdown",
      "metadata": {
        "id": "q265TAvxu4Su",
        "colab_type": "text"
      },
      "source": [
        "Mostrar a Matriz de uma Imagem"
      ]
    },
    {
      "cell_type": "code",
      "metadata": {
        "id": "PrsmKtkEtX40",
        "colab_type": "code",
        "colab": {
          "base_uri": "https://localhost:8080/",
          "height": 731
        },
        "outputId": "956ed37d-7916-4a17-9565-3efca7b163b9"
      },
      "source": [
        "import cv2\n",
        "import numpy as np\n",
        "\n",
        "imagem = cv2.imread(\"color_img.png\")\n",
        "altura,largura,bytesPorPixel = np.shape(imagem)\n",
        "\n",
        "for index in range (2):\n",
        "  if index == 0:\n",
        "    print(\"Azul\")\n",
        "  elif index == 1:\n",
        "    print(\"Verde\")\n",
        "  else:\n",
        "    print(\"Vermelho\")\n",
        "  \n",
        "  for py in range (0,altura):\n",
        "    for px in range (0,largura):\n",
        "      print(imagem[py][px][index],'\\t',end='')\n",
        "    print(\"\\n\")"
      ],
      "execution_count": null,
      "outputs": [
        {
          "output_type": "stream",
          "text": [
            "Azul\n",
            "0 \t0 \t0 \t0 \t0 \t0 \t0 \t0 \t0 \t0 \t\n",
            "\n",
            "0 \t0 \t0 \t0 \t0 \t0 \t0 \t0 \t0 \t0 \t\n",
            "\n",
            "0 \t0 \t0 \t0 \t0 \t0 \t0 \t0 \t0 \t0 \t\n",
            "\n",
            "0 \t0 \t0 \t0 \t0 \t0 \t0 \t0 \t0 \t0 \t\n",
            "\n",
            "0 \t0 \t0 \t0 \t0 \t0 \t0 \t0 \t0 \t0 \t\n",
            "\n",
            "0 \t0 \t0 \t0 \t0 \t0 \t0 \t0 \t0 \t0 \t\n",
            "\n",
            "0 \t0 \t0 \t0 \t0 \t0 \t0 \t0 \t0 \t0 \t\n",
            "\n",
            "0 \t0 \t0 \t0 \t0 \t0 \t0 \t0 \t0 \t0 \t\n",
            "\n",
            "0 \t0 \t0 \t0 \t0 \t0 \t0 \t0 \t0 \t0 \t\n",
            "\n",
            "0 \t0 \t0 \t0 \t0 \t0 \t0 \t0 \t0 \t0 \t\n",
            "\n",
            "Verde\n",
            "0 \t255 \t255 \t255 \t255 \t255 \t255 \t255 \t255 \t255 \t\n",
            "\n",
            "255 \t0 \t255 \t255 \t255 \t255 \t255 \t255 \t255 \t255 \t\n",
            "\n",
            "255 \t255 \t0 \t255 \t255 \t255 \t255 \t255 \t255 \t255 \t\n",
            "\n",
            "255 \t255 \t255 \t0 \t255 \t255 \t255 \t255 \t255 \t255 \t\n",
            "\n",
            "255 \t255 \t255 \t255 \t0 \t255 \t255 \t255 \t255 \t255 \t\n",
            "\n",
            "255 \t255 \t255 \t255 \t255 \t0 \t255 \t255 \t255 \t255 \t\n",
            "\n",
            "255 \t255 \t255 \t255 \t255 \t255 \t0 \t255 \t255 \t255 \t\n",
            "\n",
            "255 \t255 \t255 \t255 \t255 \t255 \t255 \t0 \t255 \t255 \t\n",
            "\n",
            "255 \t255 \t255 \t255 \t255 \t255 \t255 \t255 \t0 \t255 \t\n",
            "\n",
            "255 \t255 \t255 \t255 \t255 \t255 \t255 \t255 \t255 \t0 \t\n",
            "\n"
          ],
          "name": "stdout"
        }
      ]
    },
    {
      "cell_type": "markdown",
      "metadata": {
        "id": "aB24jwcVNbfN",
        "colab_type": "text"
      },
      "source": [
        "histograma"
      ]
    },
    {
      "cell_type": "code",
      "metadata": {
        "id": "DH3idXSaNdh2",
        "colab_type": "code",
        "colab": {}
      },
      "source": [
        "import cv2\n",
        "import matplotlib.pylab as plt\n",
        "\n",
        "imagem = cv2.imread(\"color_img.png\")\n",
        "\n",
        "plt.hist(imagem.ravel(), bins = 256, range = [0, 256])\n",
        "plt.show()"
      ],
      "execution_count": null,
      "outputs": []
    },
    {
      "cell_type": "markdown",
      "metadata": {
        "id": "oCvEq0IWObOn",
        "colab_type": "text"
      },
      "source": [
        "histograma por cor "
      ]
    },
    {
      "cell_type": "code",
      "metadata": {
        "id": "19q8dVU7OdIa",
        "colab_type": "code",
        "colab": {}
      },
      "source": [
        "import cv2\n",
        "import matplotlib.pylab as plt\n",
        "\n",
        "image = cv2.imread(\"color_img.png\")\n",
        "color = ('b','g','r')\n",
        "\n",
        "for i, col in enumerate(color):\n",
        "  histr = cv2.calcHist([image],[i],None,[256],[0,256])\n",
        "  plt.plot(histr,color = col)\n",
        "  plt.xlim([0,256])\n",
        "plt.show()"
      ],
      "execution_count": null,
      "outputs": []
    },
    {
      "cell_type": "markdown",
      "metadata": {
        "id": "puevw3ikPGlY",
        "colab_type": "text"
      },
      "source": [
        "imagem em azul "
      ]
    },
    {
      "cell_type": "code",
      "metadata": {
        "id": "H__avxyDPJSU",
        "colab_type": "code",
        "colab": {}
      },
      "source": [
        "import cv2\n",
        "import numpy as np\n",
        "\n",
        "imagem = cv2.imread('lotus_azul.jpg')\n",
        "altura, largura, bytesPorPixel = np.shape(imagem)\n",
        "img = np.zeros([altura,largura,3])\n",
        "\n",
        "for py in range(0, altura):\n",
        "  for px in range(0, largura):\n",
        "    img[py][px][0] = imagem[py][px][0] #azul\n",
        "    img[py][px][1] = 0 #verde\n",
        "    img[py][px][2] = 0 #vermelho\n",
        "\n",
        "    cv2.imwrite(\"flor-de-lotus-na-cor-azul_blue.jpg\", img )"
      ],
      "execution_count": null,
      "outputs": []
    },
    {
      "cell_type": "markdown",
      "metadata": {
        "id": "G3Jt1VS4V6wf",
        "colab_type": "text"
      },
      "source": [
        "imagem em escalas de cinza"
      ]
    },
    {
      "cell_type": "code",
      "metadata": {
        "id": "hJxPKlfHV-Uh",
        "colab_type": "code",
        "colab": {
          "base_uri": "https://localhost:8080/",
          "height": 34
        },
        "outputId": "0415c0db-2c16-414d-d232-2cf43e115713"
      },
      "source": [
        "import cv2\n",
        "import numpy as np\n",
        "\n",
        "imagem = cv2.imread('lotus_azul.jpg')\n",
        "altura, largura, bytesPorPixel = np.shape(imagem)\n",
        "img = np.zeros([altura,largura,3])\n",
        "\n",
        "for py in range(0, altura):\n",
        "  for px in range(0, largura):\n",
        "    img[py][px][0] = imagem[py][px][0] # cor azul\n",
        "    img[py][px][1] = imagem[py][px][0] # cor verde\n",
        "    img[py][px][2] = imagem[py][px][0] # cor vermelho\n",
        "    \n",
        "cv2.imwrite(\"flor-de-lotus-na-cor-azul_blue_gray.jpg\", img )"
      ],
      "execution_count": 7,
      "outputs": [
        {
          "output_type": "execute_result",
          "data": {
            "text/plain": [
              "True"
            ]
          },
          "metadata": {
            "tags": []
          },
          "execution_count": 7
        }
      ]
    },
    {
      "cell_type": "markdown",
      "metadata": {
        "id": "6AWp9YNzWUfR",
        "colab_type": "text"
      },
      "source": [
        "Histograma por escala de Cinza"
      ]
    },
    {
      "cell_type": "code",
      "metadata": {
        "id": "3KJU4NclWhkh",
        "colab_type": "code",
        "colab": {
          "base_uri": "https://localhost:8080/",
          "height": 265
        },
        "outputId": "c1ff83f8-04ed-49f9-bbf7-e0b74b163186"
      },
      "source": [
        "import cv2\n",
        "import matplotlib.pylab as plt\n",
        "\n",
        "image = cv2.imread('flor-de-lotus-na-cor-azul_blue_gray.jpg')\n",
        "color = ('b','g','r')\n",
        "\n",
        "for i, col in enumerate(color):\n",
        "  histr = cv2.calcHist([image],[i],None,[256],[0,256])\n",
        "  plt.plot(histr,color = col)\n",
        "  plt.xlim([0,256])\n",
        "  \n",
        "plt.show()"
      ],
      "execution_count": 8,
      "outputs": [
        {
          "output_type": "display_data",
          "data": {
            "image/png": "[encoded data removed]",
            "text/plain": [
              "<Figure size 432x288 with 1 Axes>"
            ]
          },
          "metadata": {
            "tags": [],
            "needs_background": "light"
          }
        }
      ]
    },
    {
      "cell_type": "markdown",
      "metadata": {
        "id": "1WDabsD6Wtho",
        "colab_type": "text"
      },
      "source": [
        "Converter em tons de Cinza, Segmentar a img com Histograma e salvar"
      ]
    },
    {
      "cell_type": "code",
      "metadata": {
        "id": "-3YSI7h4W05y",
        "colab_type": "code",
        "colab": {
          "base_uri": "https://localhost:8080/",
          "height": 282
        },
        "outputId": "46e4f0c4-4b22-4094-b537-f42f7c1d5bf0"
      },
      "source": [
        "import cv2\n",
        "import numpy as np\n",
        "import matplotlib.pyplot as plt\n",
        "\n",
        "#cinza\n",
        "imagem = cv2.imread(\"lotus_azul.jpg\")\n",
        "gray = cv2.cvtColor(imagem, cv2.COLOR_BGR2GRAY)\n",
        "cv2.imwrite(\"lotus_gray.png\", gray)\n",
        "\n",
        "#segmentando\n",
        "img = cv2.imread(\"lotus_gray.png\", 0)\n",
        "ret,thresh1 = cv2.threshold(img,127,255,cv2.THRESH_BINARY)\n",
        "\n",
        "#histograma\n",
        "histr= cv2.calcHist([thresh1], [0], None, [256], [0,256])\n",
        "plt.plot(histr,color=(0,0,0))\n",
        "plt.xlim([0,256])\n",
        "plt.show()\n",
        "\n",
        "#salvando\n",
        "cv2.imwrite(\"lotusbinary.jpg\", thresh1)"
      ],
      "execution_count": 9,
      "outputs": [
        {
          "output_type": "display_data",
          "data": {
            "image/png": "[encoded data removed]",
            "text/plain": [
              "<Figure size 432x288 with 1 Axes>"
            ]
          },
          "metadata": {
            "tags": [],
            "needs_background": "light"
          }
        },
        {
          "output_type": "execute_result",
          "data": {
            "text/plain": [
              "True"
            ]
          },
          "metadata": {
            "tags": []
          },
          "execution_count": 9
        }
      ]
    },
    {
      "cell_type": "markdown",
      "metadata": {
        "id": "p7dTSqFOXrkD",
        "colab_type": "text"
      },
      "source": [
        "Brilho e Contraste"
      ]
    },
    {
      "cell_type": "code",
      "metadata": {
        "id": "VVUe9oq9XtdP",
        "colab_type": "code",
        "colab": {}
      },
      "source": [
        "\n",
        "import numpy as np\n",
        "import cv2\n",
        "from matplotlib import pyplot as plt\n",
        "\n",
        "imagem = cv2.imread(\"circulos.jpg\")\n",
        "\n",
        "def contrasteBrilho(img, alpha, beta ):\n",
        "  for y in range(img.shape[0]):\n",
        "    for x in range(img.shape[1]):\n",
        "      for c in range(img.shape[2]):\n",
        "        img[y,x,c] = np.clip(alpha*img[y,x,c] + beta, 0, 255)\n",
        "        \n",
        "  return img\n",
        "  contrasteBrilho(imagem, 1, 100)"
      ],
      "execution_count": 10,
      "outputs": []
    },
    {
      "cell_type": "markdown",
      "metadata": {
        "id": "TBCjy-JVYOFY",
        "colab_type": "text"
      },
      "source": [
        "Redimensionamento"
      ]
    },
    {
      "cell_type": "code",
      "metadata": {
        "id": "oiOOjpzGYP4E",
        "colab_type": "code",
        "colab": {}
      },
      "source": [
        "import numpy as np\n",
        "import cv2\n",
        "from matplotlib import pyplot as plt\n",
        "\n",
        "imagem = cv2.imread(\"circulos.jpg\")\n",
        "\n",
        "def Resize_imagem(img,escala_percent):\n",
        "  altura = int(img.shape[1] * escala_percent / 100)\n",
        "  largura = int(img.shape[0] * escala_percent / 100)\n",
        "  \n",
        "  dim = (altura, largura)\n",
        "  # resize image\n",
        "  nova_imagem = cv2.resize(img, dim, interpolation = cv2.INTER_AREA)\n",
        "  \n",
        "  return nova_imagem\n",
        "\n",
        "Resize_imagem(imagem, 2)\n",
        "\n",
        "imagem2 = cv2.imwrite('nova_imagem.jpg',img)"
      ],
      "execution_count": 16,
      "outputs": []
    },
    {
      "cell_type": "markdown",
      "metadata": {
        "id": "i-UlqfxbZWIw",
        "colab_type": "text"
      },
      "source": [
        "Analise do Histograma"
      ]
    },
    {
      "cell_type": "code",
      "metadata": {
        "id": "sQOD3jZ6ZX9Q",
        "colab_type": "code",
        "colab": {
          "base_uri": "https://localhost:8080/",
          "height": 1000
        },
        "outputId": "50daeb5c-d056-4bf7-849f-5622fe3ddf31"
      },
      "source": [
        "import numpy as np\n",
        "import cv2\n",
        "from matplotlib import pyplot as plt\n",
        "\n",
        "imagem = cv2.imread(\"circulos.jpg\")\n",
        "\n",
        "nova_imagem = cv2.cvtColor(imagem,\n",
        "cv2.COLOR_BGR2GRAY)\n",
        "\n",
        "histogram = cv2.calcHist([imagem],[0],None,[256],[0,256])\n",
        "\n",
        "for x in range(0,255):\n",
        "  print( x, \"\\t\",int(histogram[x]),end=\"\\n\")"
      ],
      "execution_count": 17,
      "outputs": [
        {
          "output_type": "stream",
          "text": [
            "0 \t 0\n",
            "1 \t 1\n",
            "2 \t 1\n",
            "3 \t 4\n",
            "4 \t 2\n",
            "5 \t 15\n",
            "6 \t 32\n",
            "7 \t 18\n",
            "8 \t 100\n",
            "9 \t 37\n",
            "10 \t 197\n",
            "11 \t 59\n",
            "12 \t 419\n",
            "13 \t 5889\n",
            "14 \t 73\n",
            "15 \t 390\n",
            "16 \t 54\n",
            "17 \t 255\n",
            "18 \t 45\n",
            "19 \t 125\n",
            "20 \t 45\n",
            "21 \t 74\n",
            "22 \t 69\n",
            "23 \t 38\n",
            "24 \t 110\n",
            "25 \t 204\n",
            "26 \t 73\n",
            "27 \t 457\n",
            "28 \t 83\n",
            "29 \t 4730\n",
            "30 \t 78\n",
            "31 \t 490\n",
            "32 \t 119\n",
            "33 \t 359\n",
            "34 \t 459\n",
            "35 \t 128\n",
            "36 \t 4871\n",
            "37 \t 130\n",
            "38 \t 583\n",
            "39 \t 84\n",
            "40 \t 209\n",
            "41 \t 91\n",
            "42 \t 67\n",
            "43 \t 81\n",
            "44 \t 42\n",
            "45 \t 54\n",
            "46 \t 47\n",
            "47 \t 46\n",
            "48 \t 52\n",
            "49 \t 28\n",
            "50 \t 30\n",
            "51 \t 22\n",
            "52 \t 29\n",
            "53 \t 31\n",
            "54 \t 43\n",
            "55 \t 30\n",
            "56 \t 35\n",
            "57 \t 30\n",
            "58 \t 23\n",
            "59 \t 25\n",
            "60 \t 27\n",
            "61 \t 25\n",
            "62 \t 22\n",
            "63 \t 21\n",
            "64 \t 22\n",
            "65 \t 12\n",
            "66 \t 19\n",
            "67 \t 14\n",
            "68 \t 13\n",
            "69 \t 7\n",
            "70 \t 11\n",
            "71 \t 7\n",
            "72 \t 18\n",
            "73 \t 12\n",
            "74 \t 7\n",
            "75 \t 13\n",
            "76 \t 7\n",
            "77 \t 11\n",
            "78 \t 12\n",
            "79 \t 16\n",
            "80 \t 14\n",
            "81 \t 14\n",
            "82 \t 20\n",
            "83 \t 14\n",
            "84 \t 10\n",
            "85 \t 10\n",
            "86 \t 12\n",
            "87 \t 10\n",
            "88 \t 16\n",
            "89 \t 8\n",
            "90 \t 19\n",
            "91 \t 5\n",
            "92 \t 9\n",
            "93 \t 15\n",
            "94 \t 7\n",
            "95 \t 14\n",
            "96 \t 12\n",
            "97 \t 10\n",
            "98 \t 6\n",
            "99 \t 4\n",
            "100 \t 5\n",
            "101 \t 5\n",
            "102 \t 2\n",
            "103 \t 6\n",
            "104 \t 3\n",
            "105 \t 3\n",
            "106 \t 6\n",
            "107 \t 5\n",
            "108 \t 2\n",
            "109 \t 7\n",
            "110 \t 6\n",
            "111 \t 3\n",
            "112 \t 5\n",
            "113 \t 2\n",
            "114 \t 2\n",
            "115 \t 2\n",
            "116 \t 0\n",
            "117 \t 1\n",
            "118 \t 1\n",
            "119 \t 1\n",
            "120 \t 3\n",
            "121 \t 7\n",
            "122 \t 22\n",
            "123 \t 42\n",
            "124 \t 76\n",
            "125 \t 158\n",
            "126 \t 199\n",
            "127 \t 5946\n",
            "128 \t 204\n",
            "129 \t 157\n",
            "130 \t 81\n",
            "131 \t 51\n",
            "132 \t 21\n",
            "133 \t 15\n",
            "134 \t 2\n",
            "135 \t 1\n",
            "136 \t 1\n",
            "137 \t 0\n",
            "138 \t 0\n",
            "139 \t 0\n",
            "140 \t 0\n",
            "141 \t 0\n",
            "142 \t 0\n",
            "143 \t 0\n",
            "144 \t 0\n",
            "145 \t 0\n",
            "146 \t 0\n",
            "147 \t 0\n",
            "148 \t 0\n",
            "149 \t 0\n",
            "150 \t 0\n",
            "151 \t 0\n",
            "152 \t 0\n",
            "153 \t 0\n",
            "154 \t 0\n",
            "155 \t 0\n",
            "156 \t 1\n",
            "157 \t 0\n",
            "158 \t 1\n",
            "159 \t 0\n",
            "160 \t 1\n",
            "161 \t 2\n",
            "162 \t 2\n",
            "163 \t 3\n",
            "164 \t 1\n",
            "165 \t 0\n",
            "166 \t 4\n",
            "167 \t 0\n",
            "168 \t 3\n",
            "169 \t 5\n",
            "170 \t 9\n",
            "171 \t 0\n",
            "172 \t 6\n",
            "173 \t 9\n",
            "174 \t 3\n",
            "175 \t 8\n",
            "176 \t 7\n",
            "177 \t 7\n",
            "178 \t 17\n",
            "179 \t 10\n",
            "180 \t 7\n",
            "181 \t 8\n",
            "182 \t 20\n",
            "183 \t 14\n",
            "184 \t 26\n",
            "185 \t 11\n",
            "186 \t 17\n",
            "187 \t 9\n",
            "188 \t 30\n",
            "189 \t 24\n",
            "190 \t 13\n",
            "191 \t 29\n",
            "192 \t 19\n",
            "193 \t 17\n",
            "194 \t 18\n",
            "195 \t 34\n",
            "196 \t 18\n",
            "197 \t 30\n",
            "198 \t 21\n",
            "199 \t 16\n",
            "200 \t 15\n",
            "201 \t 13\n",
            "202 \t 24\n",
            "203 \t 16\n",
            "204 \t 28\n",
            "205 \t 29\n",
            "206 \t 21\n",
            "207 \t 24\n",
            "208 \t 5\n",
            "209 \t 33\n",
            "210 \t 24\n",
            "211 \t 38\n",
            "212 \t 27\n",
            "213 \t 19\n",
            "214 \t 34\n",
            "215 \t 13\n",
            "216 \t 27\n",
            "217 \t 33\n",
            "218 \t 22\n",
            "219 \t 27\n",
            "220 \t 32\n",
            "221 \t 27\n",
            "222 \t 17\n",
            "223 \t 51\n",
            "224 \t 29\n",
            "225 \t 61\n",
            "226 \t 48\n",
            "227 \t 159\n",
            "228 \t 217\n",
            "229 \t 112\n",
            "230 \t 495\n",
            "231 \t 126\n",
            "232 \t 4934\n",
            "233 \t 122\n",
            "234 \t 388\n",
            "235 \t 146\n",
            "236 \t 122\n",
            "237 \t 113\n",
            "238 \t 33\n",
            "239 \t 88\n",
            "240 \t 23\n",
            "241 \t 68\n",
            "242 \t 24\n",
            "243 \t 59\n",
            "244 \t 79\n",
            "245 \t 29\n",
            "246 \t 103\n",
            "247 \t 51\n",
            "248 \t 195\n",
            "249 \t 133\n",
            "250 \t 484\n",
            "251 \t 1192\n",
            "252 \t 254\n",
            "253 \t 2624\n",
            "254 \t 418\n"
          ],
          "name": "stdout"
        }
      ]
    },
    {
      "cell_type": "markdown",
      "metadata": {
        "id": "dFKChFp5Zjwa",
        "colab_type": "text"
      },
      "source": [
        "Picos do Histograma"
      ]
    },
    {
      "cell_type": "code",
      "metadata": {
        "id": "IUujflZYZloN",
        "colab_type": "code",
        "colab": {
          "base_uri": "https://localhost:8080/",
          "height": 1000
        },
        "outputId": "2ea88ce4-adc5-4ff5-a891-954dfa94a619"
      },
      "source": [
        "import cv2\n",
        "from matplotlib import pyplot as plt\n",
        "\n",
        "imagem = cv2.imread(\"circulos.jpg\")\n",
        "nova_imagem = cv2.cvtColor(imagem,\n",
        "cv2.COLOR_BGR2GRAY)\n",
        "histogram = cv2.calcHist([imagem],[0],None,[256],[0,256])\n",
        "\n",
        "for x in range(0,255):\n",
        "  print( x, \"\\t\",int(histogram[x]),end=\"\\n\")\n",
        "histogram_derivative = [0]*254\n",
        "\n",
        "for i in range (0,253):\n",
        "  pto_mais = histogram[i+1] - histogram[i]\n",
        "  pto_menos = histogram[i+2] - histogram[i+1]\n",
        "  \n",
        "  if (( pto_mais>0 ) and (pto_menos<0 )) and (pto_mais >100):\n",
        "    print ( int(i+1),\"\\t\",int(pto_mais),\"\\t\", int(pto_menos) ,end =\"\\n\")"
      ],
      "execution_count": 18,
      "outputs": [
        {
          "output_type": "stream",
          "text": [
            "0 \t 0\n",
            "1 \t 1\n",
            "2 \t 1\n",
            "3 \t 4\n",
            "4 \t 2\n",
            "5 \t 15\n",
            "6 \t 32\n",
            "7 \t 18\n",
            "8 \t 100\n",
            "9 \t 37\n",
            "10 \t 197\n",
            "11 \t 59\n",
            "12 \t 419\n",
            "13 \t 5889\n",
            "14 \t 73\n",
            "15 \t 390\n",
            "16 \t 54\n",
            "17 \t 255\n",
            "18 \t 45\n",
            "19 \t 125\n",
            "20 \t 45\n",
            "21 \t 74\n",
            "22 \t 69\n",
            "23 \t 38\n",
            "24 \t 110\n",
            "25 \t 204\n",
            "26 \t 73\n",
            "27 \t 457\n",
            "28 \t 83\n",
            "29 \t 4730\n",
            "30 \t 78\n",
            "31 \t 490\n",
            "32 \t 119\n",
            "33 \t 359\n",
            "34 \t 459\n",
            "35 \t 128\n",
            "36 \t 4871\n",
            "37 \t 130\n",
            "38 \t 583\n",
            "39 \t 84\n",
            "40 \t 209\n",
            "41 \t 91\n",
            "42 \t 67\n",
            "43 \t 81\n",
            "44 \t 42\n",
            "45 \t 54\n",
            "46 \t 47\n",
            "47 \t 46\n",
            "48 \t 52\n",
            "49 \t 28\n",
            "50 \t 30\n",
            "51 \t 22\n",
            "52 \t 29\n",
            "53 \t 31\n",
            "54 \t 43\n",
            "55 \t 30\n",
            "56 \t 35\n",
            "57 \t 30\n",
            "58 \t 23\n",
            "59 \t 25\n",
            "60 \t 27\n",
            "61 \t 25\n",
            "62 \t 22\n",
            "63 \t 21\n",
            "64 \t 22\n",
            "65 \t 12\n",
            "66 \t 19\n",
            "67 \t 14\n",
            "68 \t 13\n",
            "69 \t 7\n",
            "70 \t 11\n",
            "71 \t 7\n",
            "72 \t 18\n",
            "73 \t 12\n",
            "74 \t 7\n",
            "75 \t 13\n",
            "76 \t 7\n",
            "77 \t 11\n",
            "78 \t 12\n",
            "79 \t 16\n",
            "80 \t 14\n",
            "81 \t 14\n",
            "82 \t 20\n",
            "83 \t 14\n",
            "84 \t 10\n",
            "85 \t 10\n",
            "86 \t 12\n",
            "87 \t 10\n",
            "88 \t 16\n",
            "89 \t 8\n",
            "90 \t 19\n",
            "91 \t 5\n",
            "92 \t 9\n",
            "93 \t 15\n",
            "94 \t 7\n",
            "95 \t 14\n",
            "96 \t 12\n",
            "97 \t 10\n",
            "98 \t 6\n",
            "99 \t 4\n",
            "100 \t 5\n",
            "101 \t 5\n",
            "102 \t 2\n",
            "103 \t 6\n",
            "104 \t 3\n",
            "105 \t 3\n",
            "106 \t 6\n",
            "107 \t 5\n",
            "108 \t 2\n",
            "109 \t 7\n",
            "110 \t 6\n",
            "111 \t 3\n",
            "112 \t 5\n",
            "113 \t 2\n",
            "114 \t 2\n",
            "115 \t 2\n",
            "116 \t 0\n",
            "117 \t 1\n",
            "118 \t 1\n",
            "119 \t 1\n",
            "120 \t 3\n",
            "121 \t 7\n",
            "122 \t 22\n",
            "123 \t 42\n",
            "124 \t 76\n",
            "125 \t 158\n",
            "126 \t 199\n",
            "127 \t 5946\n",
            "128 \t 204\n",
            "129 \t 157\n",
            "130 \t 81\n",
            "131 \t 51\n",
            "132 \t 21\n",
            "133 \t 15\n",
            "134 \t 2\n",
            "135 \t 1\n",
            "136 \t 1\n",
            "137 \t 0\n",
            "138 \t 0\n",
            "139 \t 0\n",
            "140 \t 0\n",
            "141 \t 0\n",
            "142 \t 0\n",
            "143 \t 0\n",
            "144 \t 0\n",
            "145 \t 0\n",
            "146 \t 0\n",
            "147 \t 0\n",
            "148 \t 0\n",
            "149 \t 0\n",
            "150 \t 0\n",
            "151 \t 0\n",
            "152 \t 0\n",
            "153 \t 0\n",
            "154 \t 0\n",
            "155 \t 0\n",
            "156 \t 1\n",
            "157 \t 0\n",
            "158 \t 1\n",
            "159 \t 0\n",
            "160 \t 1\n",
            "161 \t 2\n",
            "162 \t 2\n",
            "163 \t 3\n",
            "164 \t 1\n",
            "165 \t 0\n",
            "166 \t 4\n",
            "167 \t 0\n",
            "168 \t 3\n",
            "169 \t 5\n",
            "170 \t 9\n",
            "171 \t 0\n",
            "172 \t 6\n",
            "173 \t 9\n",
            "174 \t 3\n",
            "175 \t 8\n",
            "176 \t 7\n",
            "177 \t 7\n",
            "178 \t 17\n",
            "179 \t 10\n",
            "180 \t 7\n",
            "181 \t 8\n",
            "182 \t 20\n",
            "183 \t 14\n",
            "184 \t 26\n",
            "185 \t 11\n",
            "186 \t 17\n",
            "187 \t 9\n",
            "188 \t 30\n",
            "189 \t 24\n",
            "190 \t 13\n",
            "191 \t 29\n",
            "192 \t 19\n",
            "193 \t 17\n",
            "194 \t 18\n",
            "195 \t 34\n",
            "196 \t 18\n",
            "197 \t 30\n",
            "198 \t 21\n",
            "199 \t 16\n",
            "200 \t 15\n",
            "201 \t 13\n",
            "202 \t 24\n",
            "203 \t 16\n",
            "204 \t 28\n",
            "205 \t 29\n",
            "206 \t 21\n",
            "207 \t 24\n",
            "208 \t 5\n",
            "209 \t 33\n",
            "210 \t 24\n",
            "211 \t 38\n",
            "212 \t 27\n",
            "213 \t 19\n",
            "214 \t 34\n",
            "215 \t 13\n",
            "216 \t 27\n",
            "217 \t 33\n",
            "218 \t 22\n",
            "219 \t 27\n",
            "220 \t 32\n",
            "221 \t 27\n",
            "222 \t 17\n",
            "223 \t 51\n",
            "224 \t 29\n",
            "225 \t 61\n",
            "226 \t 48\n",
            "227 \t 159\n",
            "228 \t 217\n",
            "229 \t 112\n",
            "230 \t 495\n",
            "231 \t 126\n",
            "232 \t 4934\n",
            "233 \t 122\n",
            "234 \t 388\n",
            "235 \t 146\n",
            "236 \t 122\n",
            "237 \t 113\n",
            "238 \t 33\n",
            "239 \t 88\n",
            "240 \t 23\n",
            "241 \t 68\n",
            "242 \t 24\n",
            "243 \t 59\n",
            "244 \t 79\n",
            "245 \t 29\n",
            "246 \t 103\n",
            "247 \t 51\n",
            "248 \t 195\n",
            "249 \t 133\n",
            "250 \t 484\n",
            "251 \t 1192\n",
            "252 \t 254\n",
            "253 \t 2624\n",
            "254 \t 418\n",
            "10 \t 160 \t -138\n",
            "13 \t 5470 \t -5816\n",
            "15 \t 317 \t -336\n",
            "17 \t 201 \t -210\n",
            "27 \t 384 \t -374\n",
            "29 \t 4647 \t -4652\n",
            "31 \t 412 \t -371\n",
            "36 \t 4743 \t -4741\n",
            "38 \t 453 \t -499\n",
            "40 \t 125 \t -118\n",
            "127 \t 5747 \t -5742\n",
            "230 \t 383 \t -369\n",
            "232 \t 4808 \t -4812\n",
            "234 \t 266 \t -242\n",
            "248 \t 144 \t -62\n",
            "251 \t 708 \t -938\n",
            "253 \t 2370 \t -2206\n"
          ],
          "name": "stdout"
        }
      ]
    },
    {
      "cell_type": "markdown",
      "metadata": {
        "id": "9Rj-y-vmZw2Q",
        "colab_type": "text"
      },
      "source": [
        "Desenhar um Retangulo na img"
      ]
    },
    {
      "cell_type": "code",
      "metadata": {
        "id": "NFmWxedRZxET",
        "colab_type": "code",
        "colab": {
          "base_uri": "https://localhost:8080/",
          "height": 34
        },
        "outputId": "76284f38-ad8b-438c-bfed-49df332ec71a"
      },
      "source": [
        "import cv2 \n",
        "import numpy as np\n",
        "\n",
        "altura = 100\n",
        "largura = 100\n",
        "img = np.zeros([altura,largura,3])\n",
        "\n",
        "for py in range(0,altura):\n",
        "  for px in range(0, largura):\n",
        "    img[px][py][0] = 0 #azul\n",
        "    img[px][py][1] = 255 #verde\n",
        "    img[px][py][2] = 0 #vermelho\n",
        "    \n",
        "cv2.rectangle(img, (10,10),(20,30), (125, 0, 20),2)\n",
        "cv2.imwrite(\"circulos.jpg\", img)"
      ],
      "execution_count": 19,
      "outputs": [
        {
          "output_type": "execute_result",
          "data": {
            "text/plain": [
              "True"
            ]
          },
          "metadata": {
            "tags": []
          },
          "execution_count": 19
        }
      ]
    }
  ]
}